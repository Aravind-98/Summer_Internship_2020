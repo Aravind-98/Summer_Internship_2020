{
  "nbformat": 4,
  "nbformat_minor": 0,
  "metadata": {
    "colab": {
      "name": "file_creator.ipynb",
      "provenance": [],
      "authorship_tag": "ABX9TyPPfmETRpzw4NjnU4qPMCUm",
      "include_colab_link": true
    },
    "kernelspec": {
      "name": "python3",
      "display_name": "Python 3"
    }
  },
  "cells": [
    {
      "cell_type": "markdown",
      "metadata": {
        "id": "view-in-github",
        "colab_type": "text"
      },
      "source": [
        "<a href=\"https://colab.research.google.com/github/Aravind-98/Summer_Internship_2020/blob/master/file_creator.ipynb\" target=\"_parent\"><img src=\"https://colab.research.google.com/assets/colab-badge.svg\" alt=\"Open In Colab\"/></a>"
      ]
    },
    {
      "cell_type": "code",
      "metadata": {
        "id": "wQvw4P16L0N1",
        "colab_type": "code",
        "colab": {
          "resources": {
            "http://localhost:8080/nbextensions/google.colab/files.js": {
              "data": "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",
              "ok": true,
              "headers": [
                [
                  "content-type",
                  "application/javascript"
                ]
              ],
              "status": 200,
              "status_text": ""
            }
          },
          "base_uri": "https://localhost:8080/",
          "height": 123
        },
        "outputId": "f54020e1-4cd2-4a1a-ab59-434b4c1b888e"
      },
      "source": [
        "from google.colab import files\n",
        "uploaded = files.upload()\n",
        "\n",
        "for fn in uploaded.keys():\n",
        "  print('User uploaded file \"{name}\" with length {length} bytes'.format(\n",
        "      name=fn, length=len(uploaded[fn])))   "
      ],
      "execution_count": 1,
      "outputs": [
        {
          "output_type": "display_data",
          "data": {
            "text/html": [
              "\n",
              "     <input type=\"file\" id=\"files-499c26c2-adf9-491b-ad60-812e0216f248\" name=\"files[]\" multiple disabled\n",
              "        style=\"border:none\" />\n",
              "     <output id=\"result-499c26c2-adf9-491b-ad60-812e0216f248\">\n",
              "      Upload widget is only available when the cell has been executed in the\n",
              "      current browser session. Please rerun this cell to enable.\n",
              "      </output>\n",
              "      <script src=\"/nbextensions/google.colab/files.js\"></script> "
            ],
            "text/plain": [
              "<IPython.core.display.HTML object>"
            ]
          },
          "metadata": {
            "tags": []
          }
        },
        {
          "output_type": "stream",
          "text": [
            "Saving Price_All.csv to Price_All.csv\n",
            "User uploaded file \"Price_All.csv\" with length 1527571 bytes\n"
          ],
          "name": "stdout"
        }
      ]
    },
    {
      "cell_type": "code",
      "metadata": {
        "id": "-V3vZ5y9CUSs",
        "colab_type": "code",
        "colab": {
          "base_uri": "https://localhost:8080/",
          "height": 1000
        },
        "outputId": "2f1f1437-3f97-4f30-9870-797312eeb7f8"
      },
      "source": [
        "!pip install pmdarima\n",
        "!pip install pyramid-arima\n",
        "!pip install pingouin\n",
        "!pip install statsmodels"
      ],
      "execution_count": 2,
      "outputs": [
        {
          "output_type": "stream",
          "text": [
            "Collecting pmdarima\n",
            "\u001b[?25l  Downloading https://files.pythonhosted.org/packages/4b/15/0dfc38deb2f5582b79baff6523b245d6a3dbe877e3fb96a1ee39ec63b626/pmdarima-1.6.1-cp36-cp36m-manylinux1_x86_64.whl (1.5MB)\n",
            "\u001b[K     |████████████████████████████████| 1.5MB 2.8MB/s \n",
            "\u001b[?25hRequirement already satisfied: scikit-learn>=0.22 in /usr/local/lib/python3.6/dist-packages (from pmdarima) (0.22.2.post1)\n",
            "Requirement already satisfied: scipy>=1.3.2 in /usr/local/lib/python3.6/dist-packages (from pmdarima) (1.4.1)\n",
            "Requirement already satisfied: numpy>=1.17.3 in /usr/local/lib/python3.6/dist-packages (from pmdarima) (1.18.5)\n",
            "Requirement already satisfied: pandas>=0.19 in /usr/local/lib/python3.6/dist-packages (from pmdarima) (1.0.5)\n",
            "Requirement already satisfied: urllib3 in /usr/local/lib/python3.6/dist-packages (from pmdarima) (1.24.3)\n",
            "Requirement already satisfied: joblib>=0.11 in /usr/local/lib/python3.6/dist-packages (from pmdarima) (0.15.1)\n",
            "Collecting Cython<0.29.18,>=0.29\n",
            "\u001b[?25l  Downloading https://files.pythonhosted.org/packages/e7/d7/510ddef0248f3e1e91f9cc7e31c0f35f8954d0af92c5c3fd4c853e859ebe/Cython-0.29.17-cp36-cp36m-manylinux1_x86_64.whl (2.1MB)\n",
            "\u001b[K     |████████████████████████████████| 2.1MB 17.9MB/s \n",
            "\u001b[?25hCollecting statsmodels>=0.11\n",
            "\u001b[?25l  Downloading https://files.pythonhosted.org/packages/cb/83/540fd83238a18abe6c2d280fa8e489ac5fcefa1f370f0ca1acd16ae1b860/statsmodels-0.11.1-cp36-cp36m-manylinux1_x86_64.whl (8.7MB)\n",
            "\u001b[K     |████████████████████████████████| 8.7MB 25.9MB/s \n",
            "\u001b[?25hRequirement already satisfied: python-dateutil>=2.6.1 in /usr/local/lib/python3.6/dist-packages (from pandas>=0.19->pmdarima) (2.8.1)\n",
            "Requirement already satisfied: pytz>=2017.2 in /usr/local/lib/python3.6/dist-packages (from pandas>=0.19->pmdarima) (2018.9)\n",
            "Requirement already satisfied: patsy>=0.5 in /usr/local/lib/python3.6/dist-packages (from statsmodels>=0.11->pmdarima) (0.5.1)\n",
            "Requirement already satisfied: six>=1.5 in /usr/local/lib/python3.6/dist-packages (from python-dateutil>=2.6.1->pandas>=0.19->pmdarima) (1.12.0)\n",
            "Installing collected packages: Cython, statsmodels, pmdarima\n",
            "  Found existing installation: Cython 0.29.20\n",
            "    Uninstalling Cython-0.29.20:\n",
            "      Successfully uninstalled Cython-0.29.20\n",
            "  Found existing installation: statsmodels 0.10.2\n",
            "    Uninstalling statsmodels-0.10.2:\n",
            "      Successfully uninstalled statsmodels-0.10.2\n",
            "Successfully installed Cython-0.29.17 pmdarima-1.6.1 statsmodels-0.11.1\n",
            "Collecting pyramid-arima\n",
            "\u001b[?25l  Downloading https://files.pythonhosted.org/packages/5c/84/57422f2a6ade3161c586545e38b518ba1b7ab30ee4a4acc29110c0aba2bc/pyramid_arima-0.9.0-cp36-cp36m-manylinux1_x86_64.whl (597kB)\n",
            "\u001b[K     |████████████████████████████████| 604kB 2.8MB/s \n",
            "\u001b[?25hRequirement already satisfied: numpy>=1.10 in /usr/local/lib/python3.6/dist-packages (from pyramid-arima) (1.18.5)\n",
            "Requirement already satisfied: scikit-learn>=0.17 in /usr/local/lib/python3.6/dist-packages (from pyramid-arima) (0.22.2.post1)\n",
            "Requirement already satisfied: Cython>=0.23 in /usr/local/lib/python3.6/dist-packages (from pyramid-arima) (0.29.17)\n",
            "Requirement already satisfied: scipy>=0.9 in /usr/local/lib/python3.6/dist-packages (from pyramid-arima) (1.4.1)\n",
            "Requirement already satisfied: statsmodels>=0.9.0 in /usr/local/lib/python3.6/dist-packages (from pyramid-arima) (0.11.1)\n",
            "Requirement already satisfied: pandas>=0.19 in /usr/local/lib/python3.6/dist-packages (from pyramid-arima) (1.0.5)\n",
            "Requirement already satisfied: joblib>=0.11 in /usr/local/lib/python3.6/dist-packages (from scikit-learn>=0.17->pyramid-arima) (0.15.1)\n",
            "Requirement already satisfied: patsy>=0.5 in /usr/local/lib/python3.6/dist-packages (from statsmodels>=0.9.0->pyramid-arima) (0.5.1)\n",
            "Requirement already satisfied: pytz>=2017.2 in /usr/local/lib/python3.6/dist-packages (from pandas>=0.19->pyramid-arima) (2018.9)\n",
            "Requirement already satisfied: python-dateutil>=2.6.1 in /usr/local/lib/python3.6/dist-packages (from pandas>=0.19->pyramid-arima) (2.8.1)\n",
            "Requirement already satisfied: six in /usr/local/lib/python3.6/dist-packages (from patsy>=0.5->statsmodels>=0.9.0->pyramid-arima) (1.12.0)\n",
            "Installing collected packages: pyramid-arima\n",
            "Successfully installed pyramid-arima-0.9.0\n",
            "Collecting pingouin\n",
            "\u001b[?25l  Downloading https://files.pythonhosted.org/packages/83/b2/1070c2723937a443929c12ed9ef85cc56de6222b2e0697cc24ee65b14113/pingouin-0.3.6.tar.gz (219kB)\n",
            "\u001b[K     |████████████████████████████████| 225kB 2.8MB/s \n",
            "\u001b[?25hRequirement already satisfied: numpy>=1.15 in /usr/local/lib/python3.6/dist-packages (from pingouin) (1.18.5)\n",
            "Requirement already satisfied: scipy>=1.3 in /usr/local/lib/python3.6/dist-packages (from pingouin) (1.4.1)\n",
            "Requirement already satisfied: pandas>=0.24 in /usr/local/lib/python3.6/dist-packages (from pingouin) (1.0.5)\n",
            "Requirement already satisfied: matplotlib>=3.0.2 in /usr/local/lib/python3.6/dist-packages (from pingouin) (3.2.2)\n",
            "Requirement already satisfied: seaborn>=0.9.0 in /usr/local/lib/python3.6/dist-packages (from pingouin) (0.10.1)\n",
            "Requirement already satisfied: statsmodels>=0.10.0 in /usr/local/lib/python3.6/dist-packages (from pingouin) (0.11.1)\n",
            "Requirement already satisfied: scikit-learn in /usr/local/lib/python3.6/dist-packages (from pingouin) (0.22.2.post1)\n",
            "Collecting pandas_flavor>=0.1.2\n",
            "  Downloading https://files.pythonhosted.org/packages/9a/57/7fbcff4c0961ed190ac5fcb0bd8194152ee1ee6487edf64fdbae16e2bc4b/pandas_flavor-0.2.0-py2.py3-none-any.whl\n",
            "Collecting outdated\n",
            "  Downloading https://files.pythonhosted.org/packages/86/70/2f166266438a30e94140f00c99c0eac1c45807981052a1d4c123660e1323/outdated-0.2.0.tar.gz\n",
            "Requirement already satisfied: tabulate in /usr/local/lib/python3.6/dist-packages (from pingouin) (0.8.7)\n",
            "Requirement already satisfied: pytz>=2017.2 in /usr/local/lib/python3.6/dist-packages (from pandas>=0.24->pingouin) (2018.9)\n",
            "Requirement already satisfied: python-dateutil>=2.6.1 in /usr/local/lib/python3.6/dist-packages (from pandas>=0.24->pingouin) (2.8.1)\n",
            "Requirement already satisfied: cycler>=0.10 in /usr/local/lib/python3.6/dist-packages (from matplotlib>=3.0.2->pingouin) (0.10.0)\n",
            "Requirement already satisfied: pyparsing!=2.0.4,!=2.1.2,!=2.1.6,>=2.0.1 in /usr/local/lib/python3.6/dist-packages (from matplotlib>=3.0.2->pingouin) (2.4.7)\n",
            "Requirement already satisfied: kiwisolver>=1.0.1 in /usr/local/lib/python3.6/dist-packages (from matplotlib>=3.0.2->pingouin) (1.2.0)\n",
            "Requirement already satisfied: patsy>=0.5 in /usr/local/lib/python3.6/dist-packages (from statsmodels>=0.10.0->pingouin) (0.5.1)\n",
            "Requirement already satisfied: joblib>=0.11 in /usr/local/lib/python3.6/dist-packages (from scikit-learn->pingouin) (0.15.1)\n",
            "Requirement already satisfied: xarray in /usr/local/lib/python3.6/dist-packages (from pandas_flavor>=0.1.2->pingouin) (0.15.1)\n",
            "Collecting littleutils\n",
            "  Downloading https://files.pythonhosted.org/packages/4e/b1/bb4e06f010947d67349f863b6a2ad71577f85590180a935f60543f622652/littleutils-0.2.2.tar.gz\n",
            "Requirement already satisfied: requests in /usr/local/lib/python3.6/dist-packages (from outdated->pingouin) (2.23.0)\n",
            "Requirement already satisfied: six>=1.5 in /usr/local/lib/python3.6/dist-packages (from python-dateutil>=2.6.1->pandas>=0.24->pingouin) (1.12.0)\n",
            "Requirement already satisfied: setuptools>=41.2 in /usr/local/lib/python3.6/dist-packages (from xarray->pandas_flavor>=0.1.2->pingouin) (47.3.1)\n",
            "Requirement already satisfied: idna<3,>=2.5 in /usr/local/lib/python3.6/dist-packages (from requests->outdated->pingouin) (2.9)\n",
            "Requirement already satisfied: chardet<4,>=3.0.2 in /usr/local/lib/python3.6/dist-packages (from requests->outdated->pingouin) (3.0.4)\n",
            "Requirement already satisfied: urllib3!=1.25.0,!=1.25.1,<1.26,>=1.21.1 in /usr/local/lib/python3.6/dist-packages (from requests->outdated->pingouin) (1.24.3)\n",
            "Requirement already satisfied: certifi>=2017.4.17 in /usr/local/lib/python3.6/dist-packages (from requests->outdated->pingouin) (2020.6.20)\n",
            "Building wheels for collected packages: pingouin, outdated, littleutils\n",
            "  Building wheel for pingouin (setup.py) ... \u001b[?25l\u001b[?25hdone\n",
            "  Created wheel for pingouin: filename=pingouin-0.3.6-cp36-none-any.whl size=217880 sha256=b68b4253ca74ef0d547a6b14e82cb6ebd51d5ce28e1073e241a3caed3366368c\n",
            "  Stored in directory: /root/.cache/pip/wheels/0f/12/3e/c50f18f38eaf437b927b567ac6615215fdf75fe58890d32276\n",
            "  Building wheel for outdated (setup.py) ... \u001b[?25l\u001b[?25hdone\n",
            "  Created wheel for outdated: filename=outdated-0.2.0-cp36-none-any.whl size=4962 sha256=30b34b79474c6b9e7553286d50f1c9d8b0a8e1740527ec1c94207145978a0896\n",
            "  Stored in directory: /root/.cache/pip/wheels/fd/7c/ef/814f514d31197310872b5abf353feb8fef9d67ee658e1e7e39\n",
            "  Building wheel for littleutils (setup.py) ... \u001b[?25l\u001b[?25hdone\n",
            "  Created wheel for littleutils: filename=littleutils-0.2.2-cp36-none-any.whl size=7049 sha256=de088dfbd61fee5f284de5fefdf3c0154da1765d5254f2fa85fa60b03b7ba6a2\n",
            "  Stored in directory: /root/.cache/pip/wheels/53/16/9f/ac67d15c40243754fd73f620e1b9b6dedc20492ecc19a2bae1\n",
            "Successfully built pingouin outdated littleutils\n",
            "Installing collected packages: pandas-flavor, littleutils, outdated, pingouin\n",
            "Successfully installed littleutils-0.2.2 outdated-0.2.0 pandas-flavor-0.2.0 pingouin-0.3.6\n",
            "Requirement already satisfied: statsmodels in /usr/local/lib/python3.6/dist-packages (0.11.1)\n",
            "Requirement already satisfied: patsy>=0.5 in /usr/local/lib/python3.6/dist-packages (from statsmodels) (0.5.1)\n",
            "Requirement already satisfied: pandas>=0.21 in /usr/local/lib/python3.6/dist-packages (from statsmodels) (1.0.5)\n",
            "Requirement already satisfied: scipy>=1.0 in /usr/local/lib/python3.6/dist-packages (from statsmodels) (1.4.1)\n",
            "Requirement already satisfied: numpy>=1.14 in /usr/local/lib/python3.6/dist-packages (from statsmodels) (1.18.5)\n",
            "Requirement already satisfied: six in /usr/local/lib/python3.6/dist-packages (from patsy>=0.5->statsmodels) (1.12.0)\n",
            "Requirement already satisfied: python-dateutil>=2.6.1 in /usr/local/lib/python3.6/dist-packages (from pandas>=0.21->statsmodels) (2.8.1)\n",
            "Requirement already satisfied: pytz>=2017.2 in /usr/local/lib/python3.6/dist-packages (from pandas>=0.21->statsmodels) (2018.9)\n"
          ],
          "name": "stdout"
        }
      ]
    },
    {
      "cell_type": "code",
      "metadata": {
        "id": "qBZfTHtoXWFK",
        "colab_type": "code",
        "colab": {}
      },
      "source": [
        "import pandas as pd\n",
        "import numpy as np\n",
        "import matplotlib.pyplot as plt\n",
        "import random\n",
        "import pingouin as pg\n",
        "import tensorflow as tf\n",
        "from keras.models import Sequential, Model\n",
        "from keras.layers import LSTM, Dropout, SimpleRNN, GRU, Dense, RepeatVector, TimeDistributed\n",
        "from keras.utils import plot_model\n",
        "from keras import regularizers\n",
        "from tensorflow.keras.callbacks import EarlyStopping\n",
        "import keras\n",
        "from pmdarima.arima import ndiffs\n",
        "import pmdarima as pm\n",
        "import scipy.stats as stats\n",
        "\n",
        "def load_data(filename):\n",
        "    df=pd.read_csv(filename)\n",
        "    df.dropna(inplace=True)\n",
        "    df['Date'] = pd.to_datetime(df.Date,format='%Y-%m-%d')\n",
        "    df.index = df['Date']\n",
        "    df=df[df.columns[1:]]\n",
        "    return df\n",
        "\n",
        "def rolling_pc(df,sliding_window_size):\n",
        "    new_data=[]\n",
        "    columns=list(df.columns)\n",
        "    for i in range(int(len(df)/sliding_window_size)):\n",
        "        end=-(sliding_window_size)*i\n",
        "        start=-(sliding_window_size)*(i+1)\n",
        "        if i==0:\n",
        "             extract=df.iloc[start:].copy()\n",
        "        else:     \n",
        "            extract=df.iloc[start:end].copy()\n",
        "        #print(f\"start: {start} end:{end} \")\n",
        "        pcorr_vec=[]\n",
        "        #print(\"~\"*5+str(i)+\"~\"*5)\n",
        "        for j in range(len(df.columns)-1):\n",
        "            covar=list(set(columns[:-1]).difference({columns[j]}))\n",
        "           # print(\"   \"+columns[j]+\" \"+columns[-1])\n",
        "            p_cor=pg.partial_corr(data=extract, x=columns[j], y=columns[-1], covar=covar, method='pearson').round(3)\n",
        "            pcorr_vec.append(float(p_cor[\"r\"]))\n",
        "        new_data.append(pcorr_vec)\n",
        "    new_data.reverse()    \n",
        "    PCor_dataset=pd.DataFrame(np.array(new_data),columns=columns[:-1])\n",
        "    return PCor_dataset\n",
        "\n",
        "def get_residuals(df):\n",
        "    forecast=[]\n",
        "    residuals=[]\n",
        "    for i in range(len(df.columns)):\n",
        "        data=df[df.columns[i]]\n",
        "        kpss_diffs = ndiffs(data, alpha=0.01, test='kpss', max_d=2)\n",
        "        adf_diffs = ndiffs(data, alpha=0.01, test='adf', max_d=2)\n",
        "        n_diffs = max(adf_diffs, kpss_diffs)\n",
        "\n",
        "        #print(f\"Estimated differencing term: {n_diffs}\")\n",
        "        model = pm.auto_arima(data, d=n_diffs, seasonal=False, stepwise=True, suppress_warnings=True, error_action=\"ignore\", max_p=6, max_order=None, trace=False)\n",
        "        #print(f\"{df.columns[i]}   :::::   ARIMA model order:{model.order}\")\n",
        "        pred = list(model.predict_in_sample())\n",
        "        resid=list(data-pred)\n",
        "        residuals.append(resid) \n",
        "        fcast=model.predict(1)\n",
        "        forecast.append(fcast) \n",
        "        #print(f\"forecast shape:{np.array(forecast).shape}\")\n",
        "    \n",
        "    Residuals=np.array(residuals).T\n",
        "   \n",
        "    forecast=np.array(forecast).T\n",
        "    return Residuals,forecast    \n",
        "\n",
        "def Arimizer(pre_ARIMA_data):\n",
        "    D=[]\n",
        "    #for i in range(len(pre_ARIMA_data.index)-window_size):\n",
        "    #could probably store just arrays\n",
        "    d=pd.DataFrame(np.array(pre_ARIMA_data.copy()),columns=pre_ARIMA_data.columns)\n",
        "    r,forecast=get_residuals(d)\n",
        "    #D.append(r)\n",
        "    #print(f\"   ~~ Iteration:{i+1} ~~\")\n",
        "    \n",
        "\n",
        "    #,forecast=get_residuals(t,False)\n",
        "\n",
        "    #test=np.concatenate((X_test,forecast)) #the last row is the forecast\n",
        "\n",
        "    residual_data=np.concatenate((r,forecast),axis=0)\n",
        "    #print(f\"residual shape: {residual_data.shape}\")\n",
        "    return residual_data\n",
        "\n",
        "def create_dataset(df,trn_prd,rebal_days,rolling_window_size):\n",
        "    '''\n",
        "    Returns the X, y, forecast dataframes for a given training period and rebalancing period.\n",
        "    '''\n",
        "    iter=int((2440-rebal_days-trn_prd)/rebal_days)\n",
        "    X_pred=[]\n",
        "    X_iter=[]\n",
        "    y_iter=[]\n",
        "    forecast=[]\n",
        "    for t in range(iter):\n",
        "        #####################################\n",
        "        print(f\"iteration {t+1}/{iter}\")\n",
        "\n",
        "        st_train=rebal_days*t\n",
        "        end_train=rebal_days*t+trn_prd\n",
        "        st_test=end_train\n",
        "        end_test=st_test+rebal_days\n",
        "\n",
        "        train_data=df.iloc[st_train:end_train]\n",
        "        if t==0:\n",
        "            print(f\"shape of train data:{np.array(train_data).shape}\")\n",
        "        pre_ARIMA_data=rolling_pc(train_data,30)\n",
        "        residual_data=Arimizer(pre_ARIMA_data)\n",
        "        #print(f\"shape of residual_data: {residual_data.shape}\")\n",
        "        X=[]\n",
        "        y=[]\n",
        "        for i in range(int((len(residual_data)-rolling_window_size)/rolling_window_size)):\n",
        "            X.append(residual_data[rolling_window_size*i:rolling_window_size*(i+1),:])\n",
        "           #print(residual_data[rolling_window_size*i:rolling_window_size*(i+1),:].shape)\n",
        "            y.append(residual_data[rolling_window_size*(i+1),:])\n",
        "        X_pred.append(residual_data[-rolling_window_size-1:-1,:])\n",
        "        forecast.append(residual_data[-1,:])\n",
        "        #u=np.concatenate(tuple(X))\n",
        "        u=np.array(X)\n",
        "        #v=np.concatenate(tuple(y))\n",
        "        v=np.array(y)\n",
        "        X_iter.append(u)\n",
        "        y_iter.append(v)\n",
        "    X=np.concatenate(tuple(X_iter))\n",
        "    X_p=np.array(X_pred)\n",
        "    y=np.concatenate(tuple(y_iter))\n",
        "    ARIMA_forecast=np.array(forecast)\n",
        "    # X contains train+dev+test\n",
        "    # y contain only train+dev\n",
        "    #X=pd.DataFrame(X,columns=df.columns[:-1])\n",
        "    #y=pd.DataFrame(y,columns=df.columns[:-1])\n",
        "    #ARIMA_forecast=pd.DataFrame(ARIMA_forecast,columns=df.columns[:-1])\n",
        "    return X, y, X_p,ARIMA_forecast"
      ],
      "execution_count": 5,
      "outputs": []
    },
    {
      "cell_type": "code",
      "metadata": {
        "id": "3dEBL7ufCOOM",
        "colab_type": "code",
        "colab": {
          "base_uri": "https://localhost:8080/",
          "height": 1000
        },
        "outputId": "011c1833-e6a3-4753-e79c-674ae33588c2"
      },
      "source": [
        "df=load_data(\"Price_All.csv\")\n",
        "X_whole, y_whole, X_Pred, arima_forecast=create_dataset(df,450,30,5)    \n",
        "\n",
        "print(f\"Shapes: X:{X_whole.shape} y:{y_whole.shape} X_pred:{X_Pred.shape} forecast{arima_forecast.shape}\")\n",
        "X_store=pd.DataFrame(np.reshape(X_whole,(-1,46)),columns=df.columns[:-1])\n",
        "y_store=pd.DataFrame(y_whole,columns=df.columns[:-1])\n",
        "X_predict=pd.DataFrame(np.reshape(X_Pred,(-1,46)),columns=df.columns[:-1])\n",
        "linear_forecast=pd.DataFrame(arima_forecast,columns=df.columns[:-1])\n",
        "\n",
        "from google.colab import files\n",
        "X_store.to_csv('X_store_450_30.csv')\n",
        "y_store.to_csv('y_store_450_30.csv')\n",
        "X_predict.to_csv('X_predict_450_30.csv')\n",
        "linear_forecast.to_csv('linear_forecast_450_30.csv') \n",
        "\n",
        "files.download('X_store_450_30.csv')\n",
        "files.download('y_store_450_30.csv')\n",
        "files.download('X_predict_450_30.csv')\n",
        "files.download('linear_forecast_450_30.csv') "
      ],
      "execution_count": 6,
      "outputs": [
        {
          "output_type": "stream",
          "text": [
            "iteration 1/65\n",
            "shape of train data:(450, 47)\n",
            "iteration 2/65\n",
            "iteration 3/65\n",
            "iteration 4/65\n",
            "iteration 5/65\n",
            "iteration 6/65\n",
            "iteration 7/65\n",
            "iteration 8/65\n",
            "iteration 9/65\n",
            "iteration 10/65\n",
            "iteration 11/65\n",
            "iteration 12/65\n",
            "iteration 13/65\n",
            "iteration 14/65\n",
            "iteration 15/65\n",
            "iteration 16/65\n",
            "iteration 17/65\n",
            "iteration 18/65\n",
            "iteration 19/65\n",
            "iteration 20/65\n",
            "iteration 21/65\n",
            "iteration 22/65\n",
            "iteration 23/65\n",
            "iteration 24/65\n",
            "iteration 25/65\n",
            "iteration 26/65\n",
            "iteration 27/65\n",
            "iteration 28/65\n",
            "iteration 29/65\n",
            "iteration 30/65\n",
            "iteration 31/65\n",
            "iteration 32/65\n",
            "iteration 33/65\n",
            "iteration 34/65\n",
            "iteration 35/65\n",
            "iteration 36/65\n",
            "iteration 37/65\n",
            "iteration 38/65\n",
            "iteration 39/65\n",
            "iteration 40/65\n",
            "iteration 41/65\n",
            "iteration 42/65\n",
            "iteration 43/65\n",
            "iteration 44/65\n",
            "iteration 45/65\n",
            "iteration 46/65\n",
            "iteration 47/65\n",
            "iteration 48/65\n",
            "iteration 49/65\n",
            "iteration 50/65\n",
            "iteration 51/65\n",
            "iteration 52/65\n",
            "iteration 53/65\n",
            "iteration 54/65\n",
            "iteration 55/65\n",
            "iteration 56/65\n",
            "iteration 57/65\n",
            "iteration 58/65\n",
            "iteration 59/65\n",
            "iteration 60/65\n",
            "iteration 61/65\n",
            "iteration 62/65\n",
            "iteration 63/65\n",
            "iteration 64/65\n",
            "iteration 65/65\n",
            "Shapes: X:(130, 5, 46) y:(130, 46) X_pred:(65, 5, 46) forecast(65, 46)\n"
          ],
          "name": "stdout"
        },
        {
          "output_type": "display_data",
          "data": {
            "application/javascript": [
              "\n",
              "    async function download(id, filename, size) {\n",
              "      if (!google.colab.kernel.accessAllowed) {\n",
              "        return;\n",
              "      }\n",
              "      const div = document.createElement('div');\n",
              "      const label = document.createElement('label');\n",
              "      label.textContent = `Downloading \"${filename}\": `;\n",
              "      div.appendChild(label);\n",
              "      const progress = document.createElement('progress');\n",
              "      progress.max = size;\n",
              "      div.appendChild(progress);\n",
              "      document.body.appendChild(div);\n",
              "\n",
              "      const buffers = [];\n",
              "      let downloaded = 0;\n",
              "\n",
              "      const channel = await google.colab.kernel.comms.open(id);\n",
              "      // Send a message to notify the kernel that we're ready.\n",
              "      channel.send({})\n",
              "\n",
              "      for await (const message of channel.messages) {\n",
              "        // Send a message to notify the kernel that we're ready.\n",
              "        channel.send({})\n",
              "        if (message.buffers) {\n",
              "          for (const buffer of message.buffers) {\n",
              "            buffers.push(buffer);\n",
              "            downloaded += buffer.byteLength;\n",
              "            progress.value = downloaded;\n",
              "          }\n",
              "        }\n",
              "      }\n",
              "      const blob = new Blob(buffers, {type: 'application/binary'});\n",
              "      const a = document.createElement('a');\n",
              "      a.href = window.URL.createObjectURL(blob);\n",
              "      a.download = filename;\n",
              "      div.appendChild(a);\n",
              "      a.click();\n",
              "      div.remove();\n",
              "    }\n",
              "  "
            ],
            "text/plain": [
              "<IPython.core.display.Javascript object>"
            ]
          },
          "metadata": {
            "tags": []
          }
        },
        {
          "output_type": "display_data",
          "data": {
            "application/javascript": [
              "download(\"download_77ea8f3c-7d31-4d09-ab0e-5d67632c0126\", \"X_store_450_30.csv\", 589845)"
            ],
            "text/plain": [
              "<IPython.core.display.Javascript object>"
            ]
          },
          "metadata": {
            "tags": []
          }
        },
        {
          "output_type": "display_data",
          "data": {
            "application/javascript": [
              "\n",
              "    async function download(id, filename, size) {\n",
              "      if (!google.colab.kernel.accessAllowed) {\n",
              "        return;\n",
              "      }\n",
              "      const div = document.createElement('div');\n",
              "      const label = document.createElement('label');\n",
              "      label.textContent = `Downloading \"${filename}\": `;\n",
              "      div.appendChild(label);\n",
              "      const progress = document.createElement('progress');\n",
              "      progress.max = size;\n",
              "      div.appendChild(progress);\n",
              "      document.body.appendChild(div);\n",
              "\n",
              "      const buffers = [];\n",
              "      let downloaded = 0;\n",
              "\n",
              "      const channel = await google.colab.kernel.comms.open(id);\n",
              "      // Send a message to notify the kernel that we're ready.\n",
              "      channel.send({})\n",
              "\n",
              "      for await (const message of channel.messages) {\n",
              "        // Send a message to notify the kernel that we're ready.\n",
              "        channel.send({})\n",
              "        if (message.buffers) {\n",
              "          for (const buffer of message.buffers) {\n",
              "            buffers.push(buffer);\n",
              "            downloaded += buffer.byteLength;\n",
              "            progress.value = downloaded;\n",
              "          }\n",
              "        }\n",
              "      }\n",
              "      const blob = new Blob(buffers, {type: 'application/binary'});\n",
              "      const a = document.createElement('a');\n",
              "      a.href = window.URL.createObjectURL(blob);\n",
              "      a.download = filename;\n",
              "      div.appendChild(a);\n",
              "      a.click();\n",
              "      div.remove();\n",
              "    }\n",
              "  "
            ],
            "text/plain": [
              "<IPython.core.display.Javascript object>"
            ]
          },
          "metadata": {
            "tags": []
          }
        },
        {
          "output_type": "display_data",
          "data": {
            "application/javascript": [
              "download(\"download_26e273c0-509b-49d5-a204-14415cc5d9cb\", \"y_store_450_30.csv\", 118852)"
            ],
            "text/plain": [
              "<IPython.core.display.Javascript object>"
            ]
          },
          "metadata": {
            "tags": []
          }
        },
        {
          "output_type": "display_data",
          "data": {
            "application/javascript": [
              "\n",
              "    async function download(id, filename, size) {\n",
              "      if (!google.colab.kernel.accessAllowed) {\n",
              "        return;\n",
              "      }\n",
              "      const div = document.createElement('div');\n",
              "      const label = document.createElement('label');\n",
              "      label.textContent = `Downloading \"${filename}\": `;\n",
              "      div.appendChild(label);\n",
              "      const progress = document.createElement('progress');\n",
              "      progress.max = size;\n",
              "      div.appendChild(progress);\n",
              "      document.body.appendChild(div);\n",
              "\n",
              "      const buffers = [];\n",
              "      let downloaded = 0;\n",
              "\n",
              "      const channel = await google.colab.kernel.comms.open(id);\n",
              "      // Send a message to notify the kernel that we're ready.\n",
              "      channel.send({})\n",
              "\n",
              "      for await (const message of channel.messages) {\n",
              "        // Send a message to notify the kernel that we're ready.\n",
              "        channel.send({})\n",
              "        if (message.buffers) {\n",
              "          for (const buffer of message.buffers) {\n",
              "            buffers.push(buffer);\n",
              "            downloaded += buffer.byteLength;\n",
              "            progress.value = downloaded;\n",
              "          }\n",
              "        }\n",
              "      }\n",
              "      const blob = new Blob(buffers, {type: 'application/binary'});\n",
              "      const a = document.createElement('a');\n",
              "      a.href = window.URL.createObjectURL(blob);\n",
              "      a.download = filename;\n",
              "      div.appendChild(a);\n",
              "      a.click();\n",
              "      div.remove();\n",
              "    }\n",
              "  "
            ],
            "text/plain": [
              "<IPython.core.display.Javascript object>"
            ]
          },
          "metadata": {
            "tags": []
          }
        },
        {
          "output_type": "display_data",
          "data": {
            "application/javascript": [
              "download(\"download_3df0d937-f1df-42e1-9136-53253a0014bd\", \"X_predict_450_30.csv\", 297669)"
            ],
            "text/plain": [
              "<IPython.core.display.Javascript object>"
            ]
          },
          "metadata": {
            "tags": []
          }
        },
        {
          "output_type": "display_data",
          "data": {
            "application/javascript": [
              "\n",
              "    async function download(id, filename, size) {\n",
              "      if (!google.colab.kernel.accessAllowed) {\n",
              "        return;\n",
              "      }\n",
              "      const div = document.createElement('div');\n",
              "      const label = document.createElement('label');\n",
              "      label.textContent = `Downloading \"${filename}\": `;\n",
              "      div.appendChild(label);\n",
              "      const progress = document.createElement('progress');\n",
              "      progress.max = size;\n",
              "      div.appendChild(progress);\n",
              "      document.body.appendChild(div);\n",
              "\n",
              "      const buffers = [];\n",
              "      let downloaded = 0;\n",
              "\n",
              "      const channel = await google.colab.kernel.comms.open(id);\n",
              "      // Send a message to notify the kernel that we're ready.\n",
              "      channel.send({})\n",
              "\n",
              "      for await (const message of channel.messages) {\n",
              "        // Send a message to notify the kernel that we're ready.\n",
              "        channel.send({})\n",
              "        if (message.buffers) {\n",
              "          for (const buffer of message.buffers) {\n",
              "            buffers.push(buffer);\n",
              "            downloaded += buffer.byteLength;\n",
              "            progress.value = downloaded;\n",
              "          }\n",
              "        }\n",
              "      }\n",
              "      const blob = new Blob(buffers, {type: 'application/binary'});\n",
              "      const a = document.createElement('a');\n",
              "      a.href = window.URL.createObjectURL(blob);\n",
              "      a.download = filename;\n",
              "      div.appendChild(a);\n",
              "      a.click();\n",
              "      div.remove();\n",
              "    }\n",
              "  "
            ],
            "text/plain": [
              "<IPython.core.display.Javascript object>"
            ]
          },
          "metadata": {
            "tags": []
          }
        },
        {
          "output_type": "display_data",
          "data": {
            "application/javascript": [
              "download(\"download_77405e76-cbbc-4cad-a21d-e011a88cfdd5\", \"linear_forecast_450_30.csv\", 58650)"
            ],
            "text/plain": [
              "<IPython.core.display.Javascript object>"
            ]
          },
          "metadata": {
            "tags": []
          }
        }
      ]
    },
    {
      "cell_type": "code",
      "metadata": {
        "id": "KnXeiR8PXe18",
        "colab_type": "code",
        "colab": {
          "base_uri": "https://localhost:8080/",
          "height": 1000
        },
        "outputId": "74a65cf9-42ca-4b95-c34e-e3f92aed071b"
      },
      "source": [
        "from keras.layers import Dense, LSTM, Activation\n",
        "from keras.utils.generic_utils import get_custom_objects\n",
        "from keras.regularizers import l1_l2\n",
        "from keras import backend as K\n",
        "\n",
        "class Double_Tanh(Activation):\n",
        "    def __init__(self, activation, **kwargs):\n",
        "        super(Double_Tanh, self).__init__(activation, **kwargs)\n",
        "        self.__name__ = 'double_tanh'\n",
        "\n",
        "def double_tanh(x):\n",
        "    return (K.tanh(x) * 2)\n",
        "\n",
        "get_custom_objects().update({'double_tanh':Double_Tanh(double_tanh)})\n",
        "\n",
        "\n",
        "X_train, y_train, X_dev, y_dev=X_whole[:100,:,:], y_whole[:100,:], X_whole[100:,:,:], y_whole[100:,:]\n",
        "n_steps=X_train.shape[1]\n",
        "n_features=X_train.shape[2]\n",
        "\n",
        "model=Sequential()\n",
        "model.add(LSTM(100,activation='tanh',return_sequences=True,recurrent_dropout=0.4,\n",
        "                    input_shape=(n_steps, n_features),kernel_regularizer=l1_l2(0,0.2), bias_regularizer=l1_l2(0,0.2)))\n",
        "\n",
        "model.add(TimeDistributed(Dropout(0.2)))\n",
        "model.add(LSTM(n_features,recurrent_activation=\"sigmoid\"))\n",
        "model.add(Activation(double_tanh))\n",
        "model.compile(optimizer='adam', loss=\"mse\", metrics=[\"mse\"])\n",
        "\n",
        "history=model.fit(X_train, y_train, epochs=150, batch_size=5,verbose=1,validation_data=(X_dev,y_dev))\n",
        "val_loss=history.history['val_loss']\n",
        "loss=history.history['loss']\n",
        "\n",
        "epochs=range(len(loss))\n",
        "plt.figure(figsize=(15,7))\n",
        "plt.plot(epochs, val_loss, 'r',label='Validation loss')\n",
        "plt.plot(epochs, loss, 'b',label='Train loss')\n",
        "plt.title('Dev vs Train(loss)',fontsize='large')\n",
        "plt.xlabel(\"Epochs\")\n",
        "plt.ylabel(\"Loss\")\n",
        "plt.legend()"
      ],
      "execution_count": 54,
      "outputs": [
        {
          "output_type": "stream",
          "text": [
            "Train on 100 samples, validate on 30 samples\n",
            "Epoch 1/150\n",
            "100/100 [==============================] - 1s 10ms/step - loss: 33.1827 - mse: 0.3890 - val_loss: 29.3417 - val_mse: 0.4306\n",
            "Epoch 2/150\n",
            "100/100 [==============================] - 0s 2ms/step - loss: 26.6004 - mse: 0.3801 - val_loss: 24.0934 - val_mse: 0.4286\n",
            "Epoch 3/150\n",
            "100/100 [==============================] - 0s 2ms/step - loss: 22.3522 - mse: 0.3773 - val_loss: 20.8026 - val_mse: 0.4276\n",
            "Epoch 4/150\n",
            "100/100 [==============================] - 0s 2ms/step - loss: 19.6833 - mse: 0.3771 - val_loss: 18.7089 - val_mse: 0.4271\n",
            "Epoch 5/150\n",
            "100/100 [==============================] - 0s 2ms/step - loss: 17.9502 - mse: 0.3779 - val_loss: 17.3037 - val_mse: 0.4268\n",
            "Epoch 6/150\n",
            "100/100 [==============================] - 0s 2ms/step - loss: 16.7470 - mse: 0.3788 - val_loss: 16.2805 - val_mse: 0.4270\n",
            "Epoch 7/150\n",
            "100/100 [==============================] - 0s 2ms/step - loss: 15.8323 - mse: 0.3797 - val_loss: 15.4622 - val_mse: 0.4269\n",
            "Epoch 8/150\n",
            "100/100 [==============================] - 0s 2ms/step - loss: 15.0733 - mse: 0.3806 - val_loss: 14.7547 - val_mse: 0.4270\n",
            "Epoch 9/150\n",
            "100/100 [==============================] - 0s 2ms/step - loss: 14.3983 - mse: 0.3811 - val_loss: 14.1089 - val_mse: 0.4272\n",
            "Epoch 10/150\n",
            "100/100 [==============================] - 0s 2ms/step - loss: 13.7718 - mse: 0.3814 - val_loss: 13.5009 - val_mse: 0.4273\n",
            "Epoch 11/150\n",
            "100/100 [==============================] - 0s 2ms/step - loss: 13.1775 - mse: 0.3819 - val_loss: 12.9197 - val_mse: 0.4272\n",
            "Epoch 12/150\n",
            "100/100 [==============================] - 0s 2ms/step - loss: 12.6072 - mse: 0.3818 - val_loss: 12.3611 - val_mse: 0.4273\n",
            "Epoch 13/150\n",
            "100/100 [==============================] - 0s 2ms/step - loss: 12.0583 - mse: 0.3819 - val_loss: 11.8225 - val_mse: 0.4273\n",
            "Epoch 14/150\n",
            "100/100 [==============================] - 0s 2ms/step - loss: 11.5287 - mse: 0.3817 - val_loss: 11.3028 - val_mse: 0.4273\n",
            "Epoch 15/150\n",
            "100/100 [==============================] - 0s 2ms/step - loss: 11.0181 - mse: 0.3821 - val_loss: 10.8016 - val_mse: 0.4274\n",
            "Epoch 16/150\n",
            "100/100 [==============================] - 0s 2ms/step - loss: 10.5252 - mse: 0.3819 - val_loss: 10.3182 - val_mse: 0.4272\n",
            "Epoch 17/150\n",
            "100/100 [==============================] - 0s 2ms/step - loss: 10.0501 - mse: 0.3817 - val_loss: 9.8526 - val_mse: 0.4274\n",
            "Epoch 18/150\n",
            "100/100 [==============================] - 0s 2ms/step - loss: 9.5922 - mse: 0.3815 - val_loss: 9.4038 - val_mse: 0.4274\n",
            "Epoch 19/150\n",
            "100/100 [==============================] - 0s 2ms/step - loss: 9.1514 - mse: 0.3814 - val_loss: 8.9716 - val_mse: 0.4273\n",
            "Epoch 20/150\n",
            "100/100 [==============================] - 0s 2ms/step - loss: 8.7268 - mse: 0.3814 - val_loss: 8.5557 - val_mse: 0.4274\n",
            "Epoch 21/150\n",
            "100/100 [==============================] - 0s 2ms/step - loss: 8.3183 - mse: 0.3812 - val_loss: 8.1556 - val_mse: 0.4273\n",
            "Epoch 22/150\n",
            "100/100 [==============================] - 0s 2ms/step - loss: 7.9254 - mse: 0.3810 - val_loss: 7.7708 - val_mse: 0.4273\n",
            "Epoch 23/150\n",
            "100/100 [==============================] - 0s 2ms/step - loss: 7.5477 - mse: 0.3807 - val_loss: 7.4013 - val_mse: 0.4272\n",
            "Epoch 24/150\n",
            "100/100 [==============================] - 0s 2ms/step - loss: 7.1848 - mse: 0.3804 - val_loss: 7.0463 - val_mse: 0.4273\n",
            "Epoch 25/150\n",
            "100/100 [==============================] - 0s 2ms/step - loss: 6.8365 - mse: 0.3803 - val_loss: 6.7056 - val_mse: 0.4273\n",
            "Epoch 26/150\n",
            "100/100 [==============================] - 0s 2ms/step - loss: 6.5018 - mse: 0.3798 - val_loss: 6.3787 - val_mse: 0.4273\n",
            "Epoch 27/150\n",
            "100/100 [==============================] - 0s 2ms/step - loss: 6.1813 - mse: 0.3795 - val_loss: 6.0651 - val_mse: 0.4271\n",
            "Epoch 28/150\n",
            "100/100 [==============================] - 0s 2ms/step - loss: 5.8735 - mse: 0.3785 - val_loss: 5.7654 - val_mse: 0.4273\n",
            "Epoch 29/150\n",
            "100/100 [==============================] - 0s 2ms/step - loss: 5.5783 - mse: 0.3775 - val_loss: 5.4780 - val_mse: 0.4273\n",
            "Epoch 30/150\n",
            "100/100 [==============================] - 0s 2ms/step - loss: 5.2970 - mse: 0.3772 - val_loss: 5.2028 - val_mse: 0.4269\n",
            "Epoch 31/150\n",
            "100/100 [==============================] - 0s 2ms/step - loss: 5.0266 - mse: 0.3760 - val_loss: 4.9409 - val_mse: 0.4273\n",
            "Epoch 32/150\n",
            "100/100 [==============================] - 0s 2ms/step - loss: 4.7678 - mse: 0.3740 - val_loss: 4.6894 - val_mse: 0.4273\n",
            "Epoch 33/150\n",
            "100/100 [==============================] - 0s 2ms/step - loss: 4.5202 - mse: 0.3732 - val_loss: 4.4494 - val_mse: 0.4278\n",
            "Epoch 34/150\n",
            "100/100 [==============================] - 0s 2ms/step - loss: 4.2839 - mse: 0.3701 - val_loss: 4.2222 - val_mse: 0.4278\n",
            "Epoch 35/150\n",
            "100/100 [==============================] - 0s 2ms/step - loss: 4.0581 - mse: 0.3691 - val_loss: 4.0032 - val_mse: 0.4284\n",
            "Epoch 36/150\n",
            "100/100 [==============================] - 0s 2ms/step - loss: 3.8462 - mse: 0.3679 - val_loss: 3.7990 - val_mse: 0.4308\n",
            "Epoch 37/150\n",
            "100/100 [==============================] - 0s 2ms/step - loss: 3.6408 - mse: 0.3683 - val_loss: 3.6000 - val_mse: 0.4299\n",
            "Epoch 38/150\n",
            "100/100 [==============================] - 0s 2ms/step - loss: 3.4437 - mse: 0.3652 - val_loss: 3.4088 - val_mse: 0.4292\n",
            "Epoch 39/150\n",
            "100/100 [==============================] - 0s 2ms/step - loss: 3.2567 - mse: 0.3611 - val_loss: 3.2332 - val_mse: 0.4321\n",
            "Epoch 40/150\n",
            "100/100 [==============================] - 0s 2ms/step - loss: 3.0817 - mse: 0.3620 - val_loss: 3.0628 - val_mse: 0.4311\n",
            "Epoch 41/150\n",
            "100/100 [==============================] - 0s 2ms/step - loss: 2.9123 - mse: 0.3587 - val_loss: 2.9025 - val_mse: 0.4337\n",
            "Epoch 42/150\n",
            "100/100 [==============================] - 0s 2ms/step - loss: 2.7540 - mse: 0.3587 - val_loss: 2.7458 - val_mse: 0.4318\n",
            "Epoch 43/150\n",
            "100/100 [==============================] - 0s 2ms/step - loss: 2.5997 - mse: 0.3533 - val_loss: 2.6082 - val_mse: 0.4382\n",
            "Epoch 44/150\n",
            "100/100 [==============================] - 0s 2ms/step - loss: 2.4582 - mse: 0.3553 - val_loss: 2.4681 - val_mse: 0.4374\n",
            "Epoch 45/150\n",
            "100/100 [==============================] - 0s 2ms/step - loss: 2.3230 - mse: 0.3530 - val_loss: 2.3384 - val_mse: 0.4374\n",
            "Epoch 46/150\n",
            "100/100 [==============================] - 0s 2ms/step - loss: 2.1894 - mse: 0.3492 - val_loss: 2.2126 - val_mse: 0.4366\n",
            "Epoch 47/150\n",
            "100/100 [==============================] - 0s 2ms/step - loss: 2.0668 - mse: 0.3459 - val_loss: 2.0943 - val_mse: 0.4347\n",
            "Epoch 48/150\n",
            "100/100 [==============================] - 0s 2ms/step - loss: 1.9522 - mse: 0.3456 - val_loss: 1.9829 - val_mse: 0.4337\n",
            "Epoch 49/150\n",
            "100/100 [==============================] - 0s 2ms/step - loss: 1.8419 - mse: 0.3422 - val_loss: 1.8791 - val_mse: 0.4351\n",
            "Epoch 50/150\n",
            "100/100 [==============================] - 0s 2ms/step - loss: 1.7378 - mse: 0.3397 - val_loss: 1.7862 - val_mse: 0.4383\n",
            "Epoch 51/150\n",
            "100/100 [==============================] - 0s 2ms/step - loss: 1.6421 - mse: 0.3387 - val_loss: 1.6910 - val_mse: 0.4369\n",
            "Epoch 52/150\n",
            "100/100 [==============================] - 0s 2ms/step - loss: 1.5483 - mse: 0.3363 - val_loss: 1.6088 - val_mse: 0.4411\n",
            "Epoch 53/150\n",
            "100/100 [==============================] - 0s 2ms/step - loss: 1.4602 - mse: 0.3312 - val_loss: 1.5323 - val_mse: 0.4458\n",
            "Epoch 54/150\n",
            "100/100 [==============================] - 0s 2ms/step - loss: 1.3820 - mse: 0.3322 - val_loss: 1.4560 - val_mse: 0.4461\n",
            "Epoch 55/150\n",
            "100/100 [==============================] - 0s 2ms/step - loss: 1.3072 - mse: 0.3327 - val_loss: 1.3818 - val_mse: 0.4450\n",
            "Epoch 56/150\n",
            "100/100 [==============================] - 0s 2ms/step - loss: 1.2398 - mse: 0.3334 - val_loss: 1.3130 - val_mse: 0.4418\n",
            "Epoch 57/150\n",
            "100/100 [==============================] - 0s 2ms/step - loss: 1.1702 - mse: 0.3289 - val_loss: 1.2567 - val_mse: 0.4486\n",
            "Epoch 58/150\n",
            "100/100 [==============================] - 0s 2ms/step - loss: 1.1066 - mse: 0.3290 - val_loss: 1.1879 - val_mse: 0.4431\n",
            "Epoch 59/150\n",
            "100/100 [==============================] - 0s 2ms/step - loss: 1.0394 - mse: 0.3202 - val_loss: 1.1378 - val_mse: 0.4477\n",
            "Epoch 60/150\n",
            "100/100 [==============================] - 0s 2ms/step - loss: 0.9863 - mse: 0.3216 - val_loss: 1.0822 - val_mse: 0.4438\n",
            "Epoch 61/150\n",
            "100/100 [==============================] - 0s 2ms/step - loss: 0.9385 - mse: 0.3225 - val_loss: 1.0394 - val_mse: 0.4494\n",
            "Epoch 62/150\n",
            "100/100 [==============================] - 0s 2ms/step - loss: 0.8867 - mse: 0.3166 - val_loss: 1.0073 - val_mse: 0.4602\n",
            "Epoch 63/150\n",
            "100/100 [==============================] - 0s 2ms/step - loss: 0.8417 - mse: 0.3155 - val_loss: 0.9636 - val_mse: 0.4605\n",
            "Epoch 64/150\n",
            "100/100 [==============================] - 0s 2ms/step - loss: 0.8093 - mse: 0.3231 - val_loss: 0.9162 - val_mse: 0.4487\n",
            "Epoch 65/150\n",
            "100/100 [==============================] - 0s 2ms/step - loss: 0.7659 - mse: 0.3167 - val_loss: 0.8812 - val_mse: 0.4518\n",
            "Epoch 66/150\n",
            "100/100 [==============================] - 0s 2ms/step - loss: 0.7259 - mse: 0.3126 - val_loss: 0.8578 - val_mse: 0.4629\n",
            "Epoch 67/150\n",
            "100/100 [==============================] - 0s 2ms/step - loss: 0.6920 - mse: 0.3107 - val_loss: 0.8173 - val_mse: 0.4526\n",
            "Epoch 68/150\n",
            "100/100 [==============================] - 0s 2ms/step - loss: 0.6634 - mse: 0.3141 - val_loss: 0.7906 - val_mse: 0.4564\n",
            "Epoch 69/150\n",
            "100/100 [==============================] - 0s 1ms/step - loss: 0.6313 - mse: 0.3073 - val_loss: 0.7641 - val_mse: 0.4541\n",
            "Epoch 70/150\n",
            "100/100 [==============================] - 0s 2ms/step - loss: 0.6048 - mse: 0.3074 - val_loss: 0.7448 - val_mse: 0.4607\n",
            "Epoch 71/150\n",
            "100/100 [==============================] - 0s 2ms/step - loss: 0.5802 - mse: 0.3060 - val_loss: 0.7261 - val_mse: 0.4635\n",
            "Epoch 72/150\n",
            "100/100 [==============================] - 0s 2ms/step - loss: 0.5612 - mse: 0.3063 - val_loss: 0.7169 - val_mse: 0.4730\n",
            "Epoch 73/150\n",
            "100/100 [==============================] - 0s 2ms/step - loss: 0.5409 - mse: 0.3073 - val_loss: 0.6916 - val_mse: 0.4696\n",
            "Epoch 74/150\n",
            "100/100 [==============================] - 0s 2ms/step - loss: 0.5193 - mse: 0.3056 - val_loss: 0.6655 - val_mse: 0.4587\n",
            "Epoch 75/150\n",
            "100/100 [==============================] - 0s 2ms/step - loss: 0.4973 - mse: 0.2991 - val_loss: 0.6505 - val_mse: 0.4631\n",
            "Epoch 76/150\n",
            "100/100 [==============================] - 0s 2ms/step - loss: 0.4823 - mse: 0.3019 - val_loss: 0.6601 - val_mse: 0.4849\n",
            "Epoch 77/150\n",
            "100/100 [==============================] - 0s 2ms/step - loss: 0.4653 - mse: 0.2975 - val_loss: 0.6225 - val_mse: 0.4619\n",
            "Epoch 78/150\n",
            "100/100 [==============================] - 0s 2ms/step - loss: 0.4500 - mse: 0.2957 - val_loss: 0.6238 - val_mse: 0.4751\n",
            "Epoch 79/150\n",
            "100/100 [==============================] - 0s 2ms/step - loss: 0.4465 - mse: 0.3017 - val_loss: 0.6013 - val_mse: 0.4642\n",
            "Epoch 80/150\n",
            "100/100 [==============================] - 0s 2ms/step - loss: 0.4298 - mse: 0.2991 - val_loss: 0.6070 - val_mse: 0.4797\n",
            "Epoch 81/150\n",
            "100/100 [==============================] - 0s 2ms/step - loss: 0.4163 - mse: 0.2926 - val_loss: 0.5968 - val_mse: 0.4789\n",
            "Epoch 82/150\n",
            "100/100 [==============================] - 0s 2ms/step - loss: 0.4097 - mse: 0.2971 - val_loss: 0.5672 - val_mse: 0.4596\n",
            "Epoch 83/150\n",
            "100/100 [==============================] - 0s 2ms/step - loss: 0.4027 - mse: 0.2942 - val_loss: 0.5798 - val_mse: 0.4742\n",
            "Epoch 84/150\n",
            "100/100 [==============================] - 0s 2ms/step - loss: 0.3960 - mse: 0.2952 - val_loss: 0.5645 - val_mse: 0.4684\n",
            "Epoch 85/150\n",
            "100/100 [==============================] - 0s 2ms/step - loss: 0.3900 - mse: 0.2963 - val_loss: 0.5656 - val_mse: 0.4743\n",
            "Epoch 86/150\n",
            "100/100 [==============================] - 0s 2ms/step - loss: 0.3787 - mse: 0.2918 - val_loss: 0.5558 - val_mse: 0.4730\n",
            "Epoch 87/150\n",
            "100/100 [==============================] - 0s 2ms/step - loss: 0.3686 - mse: 0.2870 - val_loss: 0.5617 - val_mse: 0.4820\n",
            "Epoch 88/150\n",
            "100/100 [==============================] - 0s 2ms/step - loss: 0.3579 - mse: 0.2818 - val_loss: 0.5503 - val_mse: 0.4787\n",
            "Epoch 89/150\n",
            "100/100 [==============================] - 0s 2ms/step - loss: 0.3550 - mse: 0.2851 - val_loss: 0.5440 - val_mse: 0.4758\n",
            "Epoch 90/150\n",
            "100/100 [==============================] - 0s 2ms/step - loss: 0.3472 - mse: 0.2812 - val_loss: 0.5424 - val_mse: 0.4793\n",
            "Epoch 91/150\n",
            "100/100 [==============================] - 0s 2ms/step - loss: 0.3478 - mse: 0.2842 - val_loss: 0.5397 - val_mse: 0.4762\n",
            "Epoch 92/150\n",
            "100/100 [==============================] - 0s 2ms/step - loss: 0.3469 - mse: 0.2840 - val_loss: 0.5467 - val_mse: 0.4864\n",
            "Epoch 93/150\n",
            "100/100 [==============================] - 0s 2ms/step - loss: 0.3440 - mse: 0.2831 - val_loss: 0.5372 - val_mse: 0.4777\n",
            "Epoch 94/150\n",
            "100/100 [==============================] - 0s 2ms/step - loss: 0.3373 - mse: 0.2793 - val_loss: 0.5410 - val_mse: 0.4845\n",
            "Epoch 95/150\n",
            "100/100 [==============================] - 0s 2ms/step - loss: 0.3360 - mse: 0.2804 - val_loss: 0.5427 - val_mse: 0.4881\n",
            "Epoch 96/150\n",
            "100/100 [==============================] - 0s 2ms/step - loss: 0.3286 - mse: 0.2759 - val_loss: 0.5329 - val_mse: 0.4818\n",
            "Epoch 97/150\n",
            "100/100 [==============================] - 0s 2ms/step - loss: 0.3246 - mse: 0.2738 - val_loss: 0.5386 - val_mse: 0.4893\n",
            "Epoch 98/150\n",
            "100/100 [==============================] - 0s 2ms/step - loss: 0.3201 - mse: 0.2722 - val_loss: 0.5322 - val_mse: 0.4854\n",
            "Epoch 99/150\n",
            "100/100 [==============================] - 0s 2ms/step - loss: 0.3273 - mse: 0.2803 - val_loss: 0.5277 - val_mse: 0.4798\n",
            "Epoch 100/150\n",
            "100/100 [==============================] - 0s 2ms/step - loss: 0.3228 - mse: 0.2735 - val_loss: 0.5265 - val_mse: 0.4796\n",
            "Epoch 101/150\n",
            "100/100 [==============================] - 0s 2ms/step - loss: 0.3146 - mse: 0.2677 - val_loss: 0.5349 - val_mse: 0.4899\n",
            "Epoch 102/150\n",
            "100/100 [==============================] - 0s 2ms/step - loss: 0.3101 - mse: 0.2663 - val_loss: 0.5256 - val_mse: 0.4832\n",
            "Epoch 103/150\n",
            "100/100 [==============================] - 0s 2ms/step - loss: 0.3103 - mse: 0.2680 - val_loss: 0.5377 - val_mse: 0.4946\n",
            "Epoch 104/150\n",
            "100/100 [==============================] - 0s 2ms/step - loss: 0.3089 - mse: 0.2650 - val_loss: 0.5417 - val_mse: 0.4973\n",
            "Epoch 105/150\n",
            "100/100 [==============================] - 0s 2ms/step - loss: 0.3128 - mse: 0.2691 - val_loss: 0.5430 - val_mse: 0.4997\n",
            "Epoch 106/150\n",
            "100/100 [==============================] - 0s 2ms/step - loss: 0.3099 - mse: 0.2660 - val_loss: 0.5500 - val_mse: 0.5063\n",
            "Epoch 107/150\n",
            "100/100 [==============================] - 0s 2ms/step - loss: 0.3047 - mse: 0.2628 - val_loss: 0.5361 - val_mse: 0.4951\n",
            "Epoch 108/150\n",
            "100/100 [==============================] - 0s 2ms/step - loss: 0.3041 - mse: 0.2627 - val_loss: 0.5304 - val_mse: 0.4891\n",
            "Epoch 109/150\n",
            "100/100 [==============================] - 0s 2ms/step - loss: 0.3039 - mse: 0.2621 - val_loss: 0.5448 - val_mse: 0.5019\n",
            "Epoch 110/150\n",
            "100/100 [==============================] - 0s 2ms/step - loss: 0.3037 - mse: 0.2598 - val_loss: 0.5417 - val_mse: 0.4986\n",
            "Epoch 111/150\n",
            "100/100 [==============================] - 0s 2ms/step - loss: 0.2999 - mse: 0.2585 - val_loss: 0.5439 - val_mse: 0.5009\n",
            "Epoch 112/150\n",
            "100/100 [==============================] - 0s 2ms/step - loss: 0.2980 - mse: 0.2553 - val_loss: 0.5545 - val_mse: 0.5126\n",
            "Epoch 113/150\n",
            "100/100 [==============================] - 0s 2ms/step - loss: 0.3028 - mse: 0.2618 - val_loss: 0.5486 - val_mse: 0.5086\n",
            "Epoch 114/150\n",
            "100/100 [==============================] - 0s 2ms/step - loss: 0.3000 - mse: 0.2584 - val_loss: 0.5356 - val_mse: 0.4955\n",
            "Epoch 115/150\n",
            "100/100 [==============================] - 0s 2ms/step - loss: 0.3005 - mse: 0.2601 - val_loss: 0.5335 - val_mse: 0.4918\n",
            "Epoch 116/150\n",
            "100/100 [==============================] - 0s 2ms/step - loss: 0.2952 - mse: 0.2524 - val_loss: 0.5446 - val_mse: 0.5026\n",
            "Epoch 117/150\n",
            "100/100 [==============================] - 0s 2ms/step - loss: 0.2952 - mse: 0.2549 - val_loss: 0.5503 - val_mse: 0.5102\n",
            "Epoch 118/150\n",
            "100/100 [==============================] - 0s 2ms/step - loss: 0.2883 - mse: 0.2468 - val_loss: 0.5527 - val_mse: 0.5111\n",
            "Epoch 119/150\n",
            "100/100 [==============================] - 0s 2ms/step - loss: 0.2933 - mse: 0.2523 - val_loss: 0.5488 - val_mse: 0.5079\n",
            "Epoch 120/150\n",
            "100/100 [==============================] - 0s 2ms/step - loss: 0.2936 - mse: 0.2513 - val_loss: 0.5532 - val_mse: 0.5107\n",
            "Epoch 121/150\n",
            "100/100 [==============================] - 0s 2ms/step - loss: 0.2894 - mse: 0.2469 - val_loss: 0.5750 - val_mse: 0.5318\n",
            "Epoch 122/150\n",
            "100/100 [==============================] - 0s 2ms/step - loss: 0.2904 - mse: 0.2481 - val_loss: 0.5502 - val_mse: 0.5080\n",
            "Epoch 123/150\n",
            "100/100 [==============================] - 0s 2ms/step - loss: 0.2941 - mse: 0.2519 - val_loss: 0.5517 - val_mse: 0.5088\n",
            "Epoch 124/150\n",
            "100/100 [==============================] - 0s 2ms/step - loss: 0.2897 - mse: 0.2468 - val_loss: 0.5628 - val_mse: 0.5200\n",
            "Epoch 125/150\n",
            "100/100 [==============================] - 0s 2ms/step - loss: 0.2871 - mse: 0.2449 - val_loss: 0.5573 - val_mse: 0.5136\n",
            "Epoch 126/150\n",
            "100/100 [==============================] - 0s 2ms/step - loss: 0.2853 - mse: 0.2428 - val_loss: 0.5595 - val_mse: 0.5178\n",
            "Epoch 127/150\n",
            "100/100 [==============================] - 0s 2ms/step - loss: 0.2769 - mse: 0.2361 - val_loss: 0.5510 - val_mse: 0.5103\n",
            "Epoch 128/150\n",
            "100/100 [==============================] - 0s 2ms/step - loss: 0.2855 - mse: 0.2432 - val_loss: 0.5516 - val_mse: 0.5087\n",
            "Epoch 129/150\n",
            "100/100 [==============================] - 0s 2ms/step - loss: 0.2823 - mse: 0.2381 - val_loss: 0.5540 - val_mse: 0.5078\n",
            "Epoch 130/150\n",
            "100/100 [==============================] - 0s 2ms/step - loss: 0.2811 - mse: 0.2361 - val_loss: 0.5556 - val_mse: 0.5139\n",
            "Epoch 131/150\n",
            "100/100 [==============================] - 0s 2ms/step - loss: 0.2788 - mse: 0.2369 - val_loss: 0.5481 - val_mse: 0.5071\n",
            "Epoch 132/150\n",
            "100/100 [==============================] - 0s 2ms/step - loss: 0.2854 - mse: 0.2417 - val_loss: 0.5590 - val_mse: 0.5162\n",
            "Epoch 133/150\n",
            "100/100 [==============================] - 0s 2ms/step - loss: 0.2796 - mse: 0.2379 - val_loss: 0.5679 - val_mse: 0.5248\n",
            "Epoch 134/150\n",
            "100/100 [==============================] - 0s 2ms/step - loss: 0.2812 - mse: 0.2367 - val_loss: 0.5861 - val_mse: 0.5422\n",
            "Epoch 135/150\n",
            "100/100 [==============================] - 0s 2ms/step - loss: 0.2743 - mse: 0.2293 - val_loss: 0.5682 - val_mse: 0.5231\n",
            "Epoch 136/150\n",
            "100/100 [==============================] - 0s 2ms/step - loss: 0.2796 - mse: 0.2348 - val_loss: 0.5688 - val_mse: 0.5239\n",
            "Epoch 137/150\n",
            "100/100 [==============================] - 0s 2ms/step - loss: 0.2751 - mse: 0.2310 - val_loss: 0.5780 - val_mse: 0.5331\n",
            "Epoch 138/150\n",
            "100/100 [==============================] - 0s 2ms/step - loss: 0.2741 - mse: 0.2291 - val_loss: 0.5610 - val_mse: 0.5175\n",
            "Epoch 139/150\n",
            "100/100 [==============================] - 0s 2ms/step - loss: 0.2687 - mse: 0.2252 - val_loss: 0.5555 - val_mse: 0.5136\n",
            "Epoch 140/150\n",
            "100/100 [==============================] - 0s 2ms/step - loss: 0.2757 - mse: 0.2344 - val_loss: 0.5633 - val_mse: 0.5221\n",
            "Epoch 141/150\n",
            "100/100 [==============================] - 0s 2ms/step - loss: 0.2754 - mse: 0.2322 - val_loss: 0.5677 - val_mse: 0.5230\n",
            "Epoch 142/150\n",
            "100/100 [==============================] - 0s 2ms/step - loss: 0.2700 - mse: 0.2250 - val_loss: 0.5675 - val_mse: 0.5239\n",
            "Epoch 143/150\n",
            "100/100 [==============================] - 0s 2ms/step - loss: 0.2662 - mse: 0.2236 - val_loss: 0.5642 - val_mse: 0.5225\n",
            "Epoch 144/150\n",
            "100/100 [==============================] - 0s 2ms/step - loss: 0.2626 - mse: 0.2206 - val_loss: 0.5602 - val_mse: 0.5191\n",
            "Epoch 145/150\n",
            "100/100 [==============================] - 0s 2ms/step - loss: 0.2699 - mse: 0.2274 - val_loss: 0.5768 - val_mse: 0.5326\n",
            "Epoch 146/150\n",
            "100/100 [==============================] - 0s 2ms/step - loss: 0.2743 - mse: 0.2290 - val_loss: 0.5815 - val_mse: 0.5351\n",
            "Epoch 147/150\n",
            "100/100 [==============================] - 0s 2ms/step - loss: 0.2643 - mse: 0.2197 - val_loss: 0.5845 - val_mse: 0.5405\n",
            "Epoch 148/150\n",
            "100/100 [==============================] - 0s 2ms/step - loss: 0.2630 - mse: 0.2194 - val_loss: 0.5801 - val_mse: 0.5358\n",
            "Epoch 149/150\n",
            "100/100 [==============================] - 0s 2ms/step - loss: 0.2625 - mse: 0.2195 - val_loss: 0.5888 - val_mse: 0.5459\n",
            "Epoch 150/150\n",
            "100/100 [==============================] - 0s 2ms/step - loss: 0.2745 - mse: 0.2283 - val_loss: 0.5702 - val_mse: 0.5230\n"
          ],
          "name": "stdout"
        },
        {
          "output_type": "execute_result",
          "data": {
            "text/plain": [
              "<matplotlib.legend.Legend at 0x7f9032c2ca90>"
            ]
          },
          "metadata": {
            "tags": []
          },
          "execution_count": 54
        },
        {
          "output_type": "display_data",
          "data": {
            "image/png": "[encoded data removed]",
            "text/plain": [
              "<Figure size 1080x504 with 1 Axes>"
            ]
          },
          "metadata": {
            "tags": [],
            "needs_background": "light"
          }
        }
      ]
    },
    {
      "cell_type": "code",
      "metadata": {
        "id": "zleEFqwSIrwU",
        "colab_type": "code",
        "colab": {
          "base_uri": "https://localhost:8080/",
          "height": 42
        },
        "outputId": "b43c197e-b0c2-4904-df2d-605d1fb0535a"
      },
      "source": [
        "arima_forecast.shape"
      ],
      "execution_count": 11,
      "outputs": [
        {
          "output_type": "execute_result",
          "data": {
            "text/plain": [
              "(65, 46)"
            ]
          },
          "metadata": {
            "tags": []
          },
          "execution_count": 11
        }
      ]
    },
    {
      "cell_type": "code",
      "metadata": {
        "id": "9holrGCqIexl",
        "colab_type": "code",
        "colab": {}
      },
      "source": [
        "pre_final_predictions=np.add(model.predict(X_Pred),arima_forecast)\n",
        "#pre_final=pd.DataFrame(final_predictions,columns=df.columns[:-1])\n",
        "ones=np.ones(pre_final_predictions.shape)\n",
        "filter=np.maximum(pre_final_predictions,-ones)\n",
        "final_predictions=np.minimum(filter,ones)\n",
        "final=pd.DataFrame(final_predictions,columns=df.columns[:-1])\n"
      ],
      "execution_count": 46,
      "outputs": []
    },
    {
      "cell_type": "code",
      "metadata": {
        "id": "LtncX5YZLZ1f",
        "colab_type": "code",
        "colab": {}
      },
      "source": [
        "final.to_csv(\"final_450_30.csv\")\n",
        "files.download('final_450_30.csv')"
      ],
      "execution_count": null,
      "outputs": []
    },
    {
      "cell_type": "code",
      "metadata": {
        "id": "bii49dehisVq",
        "colab_type": "code",
        "colab": {}
      },
      "source": [
        ""
      ],
      "execution_count": 35,
      "outputs": []
    },
    {
      "cell_type": "code",
      "metadata": {
        "id": "bPkRd5uCjbCH",
        "colab_type": "code",
        "colab": {}
      },
      "source": [
        "def rebal_pcorr(df,rebal_days,trn_prd):\n",
        "    iter=int((2440-rebal_days-trn_prd)/rebal_days)\n",
        "    reb_data=[]\n",
        "    for t in range(iter):\n",
        "        #####################################\n",
        "        print(f\"iteration {t+1}/{iter}\")\n",
        "\n",
        "        start=rebal_days*t+trn_prd\n",
        "        end=start+rebal_days\n",
        "\n",
        "        data=df.iloc[start:end].copy()\n",
        "        if t==0:\n",
        "            print(f\"shape of data:{np.array(data).shape}\")\n",
        "        pc_data=rolling_pc(data,rebal_days)\n",
        "        reb_data.append(list(pc_data.iloc[0].copy()))\n",
        "    data=pd.DataFrame(np.array(reb_data),columns=df.columns[:-1])   \n",
        "    return data"
      ],
      "execution_count": 36,
      "outputs": []
    },
    {
      "cell_type": "code",
      "metadata": {
        "id": "AFFNotiUlxdo",
        "colab_type": "code",
        "colab": {
          "base_uri": "https://localhost:8080/",
          "height": 1000
        },
        "outputId": "3deb1a48-b520-4f06-a8bb-b0489afe18b0"
      },
      "source": [
        "actual_pcorr=rebal_pcorr(df,30,450)"
      ],
      "execution_count": 16,
      "outputs": [
        {
          "output_type": "stream",
          "text": [
            "iteration 1/65\n",
            "shape of data:(30, 47)\n",
            "iteration 2/65\n",
            "iteration 3/65\n",
            "iteration 4/65\n",
            "iteration 5/65\n",
            "iteration 6/65\n",
            "iteration 7/65\n",
            "iteration 8/65\n",
            "iteration 9/65\n",
            "iteration 10/65\n",
            "iteration 11/65\n",
            "iteration 12/65\n",
            "iteration 13/65\n",
            "iteration 14/65\n",
            "iteration 15/65\n",
            "iteration 16/65\n",
            "iteration 17/65\n",
            "iteration 18/65\n",
            "iteration 19/65\n",
            "iteration 20/65\n",
            "iteration 21/65\n",
            "iteration 22/65\n",
            "iteration 23/65\n",
            "iteration 24/65\n",
            "iteration 25/65\n",
            "iteration 26/65\n",
            "iteration 27/65\n",
            "iteration 28/65\n",
            "iteration 29/65\n",
            "iteration 30/65\n",
            "iteration 31/65\n",
            "iteration 32/65\n",
            "iteration 33/65\n",
            "iteration 34/65\n",
            "iteration 35/65\n",
            "iteration 36/65\n",
            "iteration 37/65\n",
            "iteration 38/65\n",
            "iteration 39/65\n",
            "iteration 40/65\n",
            "iteration 41/65\n",
            "iteration 42/65\n",
            "iteration 43/65\n",
            "iteration 44/65\n",
            "iteration 45/65\n",
            "iteration 46/65\n",
            "iteration 47/65\n",
            "iteration 48/65\n",
            "iteration 49/65\n",
            "iteration 50/65\n",
            "iteration 51/65\n",
            "iteration 52/65\n",
            "iteration 53/65\n",
            "iteration 54/65\n",
            "iteration 55/65\n",
            "iteration 56/65\n",
            "iteration 57/65\n",
            "iteration 58/65\n",
            "iteration 59/65\n",
            "iteration 60/65\n",
            "iteration 61/65\n",
            "iteration 62/65\n",
            "iteration 63/65\n",
            "iteration 64/65\n",
            "iteration 65/65\n"
          ],
          "name": "stdout"
        }
      ]
    },
    {
      "cell_type": "code",
      "metadata": {
        "id": "uyVUY4nfps-Z",
        "colab_type": "code",
        "colab": {
          "base_uri": "https://localhost:8080/",
          "height": 1000
        },
        "outputId": "2f2d48a9-2937-4678-8f9c-2faae62810cd"
      },
      "source": [
        "col_ind=list(np.argsort(list(actual_pcorr.iloc[-1])))\n",
        "ans_1=list(final.columns[col_ind])[::-1]\n",
        "ans_1"
      ],
      "execution_count": 43,
      "outputs": [
        {
          "output_type": "execute_result",
          "data": {
            "text/plain": [
              "['Price_43',\n",
              " 'Price_20',\n",
              " 'Price_12',\n",
              " 'Price_29',\n",
              " 'Price_26',\n",
              " 'Price_45',\n",
              " 'Price_31',\n",
              " 'Price_48',\n",
              " 'Price_49',\n",
              " 'Price_21',\n",
              " 'Price_47',\n",
              " 'Price_23',\n",
              " 'Price_24',\n",
              " 'Price_38',\n",
              " 'Price_3',\n",
              " 'Price_5',\n",
              " 'Price_30',\n",
              " 'Price_36',\n",
              " 'Price_46',\n",
              " 'Price_28',\n",
              " 'Price_32',\n",
              " 'Price_42',\n",
              " 'Price_39',\n",
              " 'Price_2',\n",
              " 'Price_41',\n",
              " 'Price_1',\n",
              " 'Price_37',\n",
              " 'Price_33',\n",
              " 'Price_22',\n",
              " 'Price_44',\n",
              " 'Price_14',\n",
              " 'Price_4',\n",
              " 'Price_34',\n",
              " 'Price_9',\n",
              " 'Price_16',\n",
              " 'Price_8',\n",
              " 'Price_50',\n",
              " 'Price_11',\n",
              " 'Price_27',\n",
              " 'Price_18',\n",
              " 'Price_19',\n",
              " 'Price_7',\n",
              " 'Price_15',\n",
              " 'Price_40',\n",
              " 'Price_35',\n",
              " 'Price_17']"
            ]
          },
          "metadata": {
            "tags": []
          },
          "execution_count": 43
        }
      ]
    },
    {
      "cell_type": "code",
      "metadata": {
        "id": "chk-BWYwgTrQ",
        "colab_type": "code",
        "colab": {
          "base_uri": "https://localhost:8080/",
          "height": 1000
        },
        "outputId": "2a8712b6-241a-438d-a375-c2b85e2e84f4"
      },
      "source": [
        "col_ind=list(np.argsort(list(final.iloc[-1])))\n",
        "ans=list(final.columns[col_ind])[::-1]\n",
        "ans"
      ],
      "execution_count": 44,
      "outputs": [
        {
          "output_type": "execute_result",
          "data": {
            "text/plain": [
              "['Price_5',\n",
              " 'Price_30',\n",
              " 'Price_4',\n",
              " 'Price_35',\n",
              " 'Price_36',\n",
              " 'Price_1',\n",
              " 'Price_22',\n",
              " 'Price_21',\n",
              " 'Price_40',\n",
              " 'Price_43',\n",
              " 'Price_31',\n",
              " 'Price_34',\n",
              " 'Price_24',\n",
              " 'Price_45',\n",
              " 'Price_48',\n",
              " 'Price_42',\n",
              " 'Price_12',\n",
              " 'Price_2',\n",
              " 'Price_9',\n",
              " 'Price_28',\n",
              " 'Price_8',\n",
              " 'Price_23',\n",
              " 'Price_19',\n",
              " 'Price_14',\n",
              " 'Price_3',\n",
              " 'Price_39',\n",
              " 'Price_11',\n",
              " 'Price_38',\n",
              " 'Price_32',\n",
              " 'Price_44',\n",
              " 'Price_20',\n",
              " 'Price_26',\n",
              " 'Price_17',\n",
              " 'Price_49',\n",
              " 'Price_41',\n",
              " 'Price_46',\n",
              " 'Price_18',\n",
              " 'Price_15',\n",
              " 'Price_50',\n",
              " 'Price_47',\n",
              " 'Price_16',\n",
              " 'Price_7',\n",
              " 'Price_37',\n",
              " 'Price_33',\n",
              " 'Price_29',\n",
              " 'Price_27']"
            ]
          },
          "metadata": {
            "tags": []
          },
          "execution_count": 44
        }
      ]
    },
    {
      "cell_type": "code",
      "metadata": {
        "id": "-b3yXi6tx1LI",
        "colab_type": "code",
        "colab": {}
      },
      "source": [
        "a_fc=pd.DataFrame(arima_forecast,columns=df.columns[:-1])"
      ],
      "execution_count": 59,
      "outputs": []
    },
    {
      "cell_type": "code",
      "metadata": {
        "id": "MJ9yGjCoqLt_",
        "colab_type": "code",
        "colab": {}
      },
      "source": [
        "def plot_forecast(i):\n",
        "    plt.figure(figsize=(20,7))\n",
        "    plt.plot(np.array(final.iloc[i]),\"--o\",label=\"pred\")\n",
        "    plt.plot(np.array(actual_pcorr.iloc[i]),\"--o\",label=\"actual\")\n",
        "    plt.plot(np.array(a_fc.iloc[i]),\"-*\",label=\"arima_forecast\")\n",
        "    plt.legend()"
      ],
      "execution_count": 79,
      "outputs": []
    },
    {
      "cell_type": "code",
      "metadata": {
        "id": "kMVIylMpzFjy",
        "colab_type": "code",
        "colab": {
          "base_uri": "https://localhost:8080/",
          "height": 427
        },
        "outputId": "2a3d2718-85ad-49de-de34-39ebef372ce1"
      },
      "source": [
        "plot_forecast(3)"
      ],
      "execution_count": 80,
      "outputs": [
        {
          "output_type": "display_data",
          "data": {
            "image/png": "[encoded data removed]",
            "text/plain": [
              "<Figure size 1440x504 with 1 Axes>"
            ]
          },
          "metadata": {
            "tags": [],
            "needs_background": "light"
          }
        }
      ]
    },
    {
      "cell_type": "code",
      "metadata": {
        "id": "tY1ZPg9Tq0iE",
        "colab_type": "code",
        "colab": {
          "base_uri": "https://localhost:8080/",
          "height": 144
        },
        "outputId": "1dded013-0323-4965-db67-53522cbdf309"
      },
      "source": [
        "np.array((ans_1[:10],ans[:10]))"
      ],
      "execution_count": 52,
      "outputs": [
        {
          "output_type": "execute_result",
          "data": {
            "text/plain": [
              "array([['Price_43', 'Price_20', 'Price_12', 'Price_29', 'Price_26',\n",
              "        'Price_45', 'Price_31', 'Price_48', 'Price_49', 'Price_21'],\n",
              "       ['Price_5', 'Price_30', 'Price_4', 'Price_35', 'Price_36',\n",
              "        'Price_1', 'Price_22', 'Price_21', 'Price_40', 'Price_43']],\n",
              "      dtype='<U8')"
            ]
          },
          "metadata": {
            "tags": []
          },
          "execution_count": 52
        }
      ]
    }
  ]
}